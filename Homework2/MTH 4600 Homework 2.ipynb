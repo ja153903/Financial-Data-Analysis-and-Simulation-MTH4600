{
 "cells": [
  {
   "cell_type": "code",
   "execution_count": 1,
   "metadata": {
    "collapsed": true
   },
   "outputs": [],
   "source": [
    "import numpy as np\n",
    "import pandas as pd\n",
    "import statsmodels.api as sm\n",
    "import statsmodels.formula.api as smf"
   ]
  },
  {
   "cell_type": "code",
   "execution_count": 2,
   "metadata": {
    "collapsed": true
   },
   "outputs": [],
   "source": [
    "allData = pd.read_csv('./AllData.csv')"
   ]
  },
  {
   "cell_type": "code",
   "execution_count": 3,
   "metadata": {
    "collapsed": false
   },
   "outputs": [
    {
     "data": {
      "text/html": [
       "<div>\n",
       "<table border=\"1\" class=\"dataframe\">\n",
       "  <thead>\n",
       "    <tr style=\"text-align: right;\">\n",
       "      <th></th>\n",
       "      <th>MMM</th>\n",
       "      <th>AXP</th>\n",
       "      <th>AAPL</th>\n",
       "      <th>BA</th>\n",
       "      <th>CAT</th>\n",
       "      <th>CVX</th>\n",
       "      <th>CSCO</th>\n",
       "      <th>KO</th>\n",
       "      <th>DD</th>\n",
       "      <th>XOM</th>\n",
       "      <th>...</th>\n",
       "      <th>PFE</th>\n",
       "      <th>PG</th>\n",
       "      <th>TRV</th>\n",
       "      <th>UNH</th>\n",
       "      <th>UTX</th>\n",
       "      <th>VZ</th>\n",
       "      <th>V</th>\n",
       "      <th>WMT</th>\n",
       "      <th>DIS</th>\n",
       "      <th>S&amp;P500</th>\n",
       "    </tr>\n",
       "  </thead>\n",
       "  <tbody>\n",
       "    <tr>\n",
       "      <th>0</th>\n",
       "      <td>6.09</td>\n",
       "      <td>6.30</td>\n",
       "      <td>12.70</td>\n",
       "      <td>1.13</td>\n",
       "      <td>20.44</td>\n",
       "      <td>-3.08</td>\n",
       "      <td>8.63</td>\n",
       "      <td>-3.46</td>\n",
       "      <td>11.15</td>\n",
       "      <td>-1.20</td>\n",
       "      <td>...</td>\n",
       "      <td>-1.11</td>\n",
       "      <td>-5.50</td>\n",
       "      <td>-1.47</td>\n",
       "      <td>2.19</td>\n",
       "      <td>7.20</td>\n",
       "      <td>-6.13</td>\n",
       "      <td>-0.87</td>\n",
       "      <td>2.68</td>\n",
       "      <td>3.73</td>\n",
       "      <td>4.36</td>\n",
       "    </tr>\n",
       "    <tr>\n",
       "      <th>1</th>\n",
       "      <td>1.03</td>\n",
       "      <td>5.48</td>\n",
       "      <td>18.83</td>\n",
       "      <td>1.04</td>\n",
       "      <td>4.66</td>\n",
       "      <td>5.82</td>\n",
       "      <td>1.22</td>\n",
       "      <td>3.44</td>\n",
       "      <td>-0.06</td>\n",
       "      <td>3.30</td>\n",
       "      <td>...</td>\n",
       "      <td>-1.31</td>\n",
       "      <td>7.27</td>\n",
       "      <td>-0.57</td>\n",
       "      <td>7.65</td>\n",
       "      <td>7.05</td>\n",
       "      <td>1.19</td>\n",
       "      <td>15.62</td>\n",
       "      <td>-3.72</td>\n",
       "      <td>7.94</td>\n",
       "      <td>4.06</td>\n",
       "    </tr>\n",
       "    <tr>\n",
       "      <th>2</th>\n",
       "      <td>1.84</td>\n",
       "      <td>9.40</td>\n",
       "      <td>10.53</td>\n",
       "      <td>-0.77</td>\n",
       "      <td>-6.73</td>\n",
       "      <td>-1.75</td>\n",
       "      <td>6.39</td>\n",
       "      <td>5.95</td>\n",
       "      <td>4.02</td>\n",
       "      <td>0.27</td>\n",
       "      <td>...</td>\n",
       "      <td>7.20</td>\n",
       "      <td>-0.61</td>\n",
       "      <td>2.12</td>\n",
       "      <td>5.72</td>\n",
       "      <td>-1.11</td>\n",
       "      <td>0.31</td>\n",
       "      <td>1.41</td>\n",
       "      <td>3.59</td>\n",
       "      <td>4.26</td>\n",
       "      <td>3.13</td>\n",
       "    </tr>\n",
       "    <tr>\n",
       "      <th>3</th>\n",
       "      <td>0.17</td>\n",
       "      <td>4.06</td>\n",
       "      <td>-2.59</td>\n",
       "      <td>3.27</td>\n",
       "      <td>-3.52</td>\n",
       "      <td>-0.61</td>\n",
       "      <td>-4.68</td>\n",
       "      <td>3.11</td>\n",
       "      <td>1.05</td>\n",
       "      <td>-0.45</td>\n",
       "      <td>...</td>\n",
       "      <td>1.15</td>\n",
       "      <td>-5.31</td>\n",
       "      <td>8.65</td>\n",
       "      <td>-4.73</td>\n",
       "      <td>-1.57</td>\n",
       "      <td>5.62</td>\n",
       "      <td>4.24</td>\n",
       "      <td>-3.74</td>\n",
       "      <td>-1.53</td>\n",
       "      <td>-0.75</td>\n",
       "    </tr>\n",
       "    <tr>\n",
       "      <th>4</th>\n",
       "      <td>-5.54</td>\n",
       "      <td>-7.27</td>\n",
       "      <td>-1.08</td>\n",
       "      <td>-9.36</td>\n",
       "      <td>-14.74</td>\n",
       "      <td>-7.74</td>\n",
       "      <td>-19.00</td>\n",
       "      <td>-2.07</td>\n",
       "      <td>-9.71</td>\n",
       "      <td>-8.93</td>\n",
       "      <td>...</td>\n",
       "      <td>-4.50</td>\n",
       "      <td>-2.12</td>\n",
       "      <td>-2.85</td>\n",
       "      <td>-0.68</td>\n",
       "      <td>-9.22</td>\n",
       "      <td>3.12</td>\n",
       "      <td>-6.34</td>\n",
       "      <td>11.73</td>\n",
       "      <td>6.03</td>\n",
       "      <td>-6.27</td>\n",
       "    </tr>\n",
       "  </tbody>\n",
       "</table>\n",
       "<p>5 rows × 31 columns</p>\n",
       "</div>"
      ],
      "text/plain": [
       "    MMM   AXP   AAPL    BA    CAT   CVX   CSCO    KO     DD   XOM   ...    \\\n",
       "0  6.09  6.30  12.70  1.13  20.44 -3.08   8.63 -3.46  11.15 -1.20   ...     \n",
       "1  1.03  5.48  18.83  1.04   4.66  5.82   1.22  3.44  -0.06  3.30   ...     \n",
       "2  1.84  9.40  10.53 -0.77  -6.73 -1.75   6.39  5.95   4.02  0.27   ...     \n",
       "3  0.17  4.06  -2.59  3.27  -3.52 -0.61  -4.68  3.11   1.05 -0.45   ...     \n",
       "4 -5.54 -7.27  -1.08 -9.36 -14.74 -7.74 -19.00 -2.07  -9.71 -8.93   ...     \n",
       "\n",
       "    PFE    PG   TRV   UNH   UTX    VZ      V    WMT   DIS  S&P500  \n",
       "0 -1.11 -5.50 -1.47  2.19  7.20 -6.13  -0.87   2.68  3.73    4.36  \n",
       "1 -1.31  7.27 -0.57  7.65  7.05  1.19  15.62  -3.72  7.94    4.06  \n",
       "2  7.20 -0.61  2.12  5.72 -1.11  0.31   1.41   3.59  4.26    3.13  \n",
       "3  1.15 -5.31  8.65 -4.73 -1.57  5.62   4.24  -3.74 -1.53   -0.75  \n",
       "4 -4.50 -2.12 -2.85 -0.68 -9.22  3.12  -6.34  11.73  6.03   -6.27  \n",
       "\n",
       "[5 rows x 31 columns]"
      ]
     },
     "execution_count": 3,
     "metadata": {},
     "output_type": "execute_result"
    }
   ],
   "source": [
    "allData.head()"
   ]
  },
  {
   "cell_type": "code",
   "execution_count": 4,
   "metadata": {
    "collapsed": true
   },
   "outputs": [],
   "source": [
    "# 1 month risk-free rate\n",
    "rf = 0.15"
   ]
  },
  {
   "cell_type": "code",
   "execution_count": 5,
   "metadata": {
    "collapsed": true
   },
   "outputs": [],
   "source": [
    "# Creates a copy of filtered DataFrame where we do not include the market\n",
    "monthly_rf = allData.drop('S&P500', axis=1).copy() - rf"
   ]
  },
  {
   "cell_type": "code",
   "execution_count": 6,
   "metadata": {
    "collapsed": false
   },
   "outputs": [
    {
     "data": {
      "text/plain": [
       "Index([u'MMM', u'AXP', u'AAPL', u'BA', u'CAT', u'CVX', u'CSCO', u'KO', u'DD',\n",
       "       u'XOM', u'GE', u'GS', u'HD', u'IBM', u'INTC', u'JNJ', u'JPM', u'MCD',\n",
       "       u'MRK', u'MSFT', u'NKE', u'PFE', u'PG', u'TRV', u'UNH', u'UTX', u'VZ',\n",
       "       u'V', u'WMT', u'DIS'],\n",
       "      dtype='object')"
      ]
     },
     "execution_count": 6,
     "metadata": {},
     "output_type": "execute_result"
    }
   ],
   "source": [
    "# Checks if S&P500 is still in there\n",
    "monthly_rf.columns"
   ]
  },
  {
   "cell_type": "code",
   "execution_count": 7,
   "metadata": {
    "collapsed": false
   },
   "outputs": [],
   "source": [
    "# mt - rf in CAPM Formula\n",
    "market_rf = allData['S&P500'] - rf\n",
    "\n",
    "# smf.OLS doesn't provide a constant so we have to\n",
    "# add our own constant\n",
    "market_rf = sm.add_constant(market_rf)\n",
    "\n",
    "# generates a dictionary of OLS Regression results\n",
    "results = {x : smf.OLS(monthly_rf[x], market_rf).fit() for x in monthly_rf}"
   ]
  },
  {
   "cell_type": "code",
   "execution_count": 8,
   "metadata": {
    "collapsed": false,
    "scrolled": true
   },
   "outputs": [
    {
     "name": "stdout",
     "output_type": "stream",
     "text": [
      "Stock: MMM Alpha: 0.33500231774  Beta: 1.05194535638\n",
      "Stock: AXP Alpha: -0.256403445667  Beta: 1.20128332506\n",
      "Stock: AAPL Alpha: 0.17175768356  Beta: 1.2894851519\n",
      "Stock: BA Alpha: 0.370341857335  Beta: 1.05387649854\n",
      "Stock: CAT Alpha: -1.04505520011  Beta: 1.36505741435\n",
      "Stock: CVX Alpha: -0.861269150461  Beta: 1.19007848474\n",
      "Stock: CSCO Alpha: -0.25444440453  Beta: 1.38741353502\n",
      "Stock: KO Alpha: -0.346701951048  Beta: 0.648034833551\n",
      "Stock: DD Alpha: -0.477687873975  Beta: 1.71023982242\n",
      "Stock: XOM Alpha: -0.729006691243  Beta: 0.897274694215\n",
      "Stock: GE Alpha: -0.113884504392  Beta: 1.19757841178\n",
      "Stock: GS Alpha: 0.369648071868  Beta: 1.61409412072\n",
      "Stock: HD Alpha: 0.972506610573  Beta: 1.09187058278\n",
      "Stock: IBM Alpha: -1.02608774239  Beta: 0.964242383081\n",
      "Stock: INTC Alpha: -0.214236951437  Beta: 1.06249693906\n",
      "Stock: JNJ Alpha: 0.23206918076  Beta: 0.73184433329\n",
      "Stock: JPM Alpha: 0.371927816538  Beta: 1.53371449908\n",
      "Stock: MCD Alpha: -0.335956712153  Beta: 0.671009938539\n",
      "Stock: MRK Alpha: 0.0375376867785  Beta: 0.770066656199\n",
      "Stock: MSFT Alpha: 0.543661913915  Beta: 1.13375237769\n",
      "Stock: NKE Alpha: 0.863730827264  Beta: 0.462805783372\n",
      "Stock: PFE Alpha: -0.155878121372  Beta: 0.905072441991\n",
      "Stock: PG Alpha: -0.195226037204  Beta: 0.587973681571\n",
      "Stock: TRV Alpha: 0.289942199675  Beta: 1.03166249311\n",
      "Stock: UNH Alpha: 1.3278665459  Beta: 0.667726444002\n",
      "Stock: UTX Alpha: -0.305717670703  Beta: 1.10996433887\n",
      "Stock: VZ Alpha: 0.0887688003101  Beta: 0.402866291556\n",
      "Stock: V Alpha: 1.04221144833  Beta: 0.951101242494\n",
      "Stock: WMT Alpha: 0.106101580747  Beta: 0.108430028207\n",
      "Stock: DIS Alpha: 0.64262349888  Beta: 1.2272260141\n"
     ]
    }
   ],
   "source": [
    "for x in monthly_rf:\n",
    "    print('Stock: {} Alpha: {}  Beta: {}'.format(x, results[x].params[0], results[x].params[1]))\n"
   ]
  },
  {
   "cell_type": "code",
   "execution_count": 9,
   "metadata": {
    "collapsed": false
   },
   "outputs": [
    {
     "data": {
      "text/plain": [
       "['IBM']"
      ]
     },
     "execution_count": 9,
     "metadata": {},
     "output_type": "execute_result"
    }
   ],
   "source": [
    "underperformers = [key for key in results.keys() if results[key].tvalues[0] < -1.697]\n",
    "underperformers"
   ]
  },
  {
   "cell_type": "code",
   "execution_count": 10,
   "metadata": {
    "collapsed": false
   },
   "outputs": [
    {
     "data": {
      "text/plain": [
       "['V', 'HD', 'UNH']"
      ]
     },
     "execution_count": 10,
     "metadata": {},
     "output_type": "execute_result"
    }
   ],
   "source": [
    "overperformers = [key for key in results.keys() if results[key].tvalues[0] > 1.697]\n",
    "overperformers"
   ]
  },
  {
   "cell_type": "code",
   "execution_count": 44,
   "metadata": {
    "collapsed": true
   },
   "outputs": [],
   "source": [
    "market_return = allData['S&P500'].mean()"
   ]
  },
  {
   "cell_type": "code",
   "execution_count": 45,
   "metadata": {
    "collapsed": false
   },
   "outputs": [],
   "source": [
    "monthly_covariance = allData.drop('S&P500', axis=1).copy().cov().sort_index()"
   ]
  },
  {
   "cell_type": "code",
   "execution_count": 46,
   "metadata": {
    "collapsed": false
   },
   "outputs": [
    {
     "data": {
      "text/plain": [
       "{'AAPL': 1.2587423164404297,\n",
       " 'AXP': 1.1829034456671361,\n",
       " 'BA': 1.0561581426647271,\n",
       " 'CAT': 1.3237218667759942,\n",
       " 'CSCO': 1.3429444045299692,\n",
       " 'CVX': 1.173269150460676,\n",
       " 'DD': 1.6205212073078417,\n",
       " 'DIS': 1.2052098344531894,\n",
       " 'GE': 1.1797178377253292,\n",
       " 'GS': 1.5378519281320076,\n",
       " 'HD': 1.0888267227600805,\n",
       " 'IBM': 0.97908774238571994,\n",
       " 'INTC': 1.06357028477014,\n",
       " 'JNJ': 0.77926415257382331,\n",
       " 'JPM': 1.468738850128978,\n",
       " 'KO': 0.70720195104849293,\n",
       " 'MCD': 0.72695671215340985,\n",
       " 'MMM': 1.0544976822601977,\n",
       " 'MRK': 0.81212897988817823,\n",
       " 'MSFT': 1.1248380860854996,\n",
       " 'NKE': 0.5479358394031032,\n",
       " 'PFE': 0.92821145470522026,\n",
       " 'PG': 0.65555937053744961,\n",
       " 'TRV': 1.0370578003253994,\n",
       " 'UNH': 0.72413345410098917,\n",
       " 'UTX': 1.1043843373691806,\n",
       " 'V': 0.96778855167089251,\n",
       " 'VZ': 0.49639786635655758,\n",
       " 'WMT': 0.24323175258681712,\n",
       " 'XOM': 0.9215066912425347}"
      ]
     },
     "execution_count": 46,
     "metadata": {},
     "output_type": "execute_result"
    }
   ],
   "source": [
    "returns = {x: (rf + results[x].params[1]*(market_return - rf)) for x in results}\n",
    "returns"
   ]
  },
  {
   "cell_type": "code",
   "execution_count": 47,
   "metadata": {
    "collapsed": true
   },
   "outputs": [],
   "source": [
    "monthly_return = allData.drop('S&P500', axis=1).copy().mean().sort_index()"
   ]
  },
  {
   "cell_type": "code",
   "execution_count": 48,
   "metadata": {
    "collapsed": false
   },
   "outputs": [],
   "source": [
    "u = np.array([1]*len(monthly_return))"
   ]
  },
  {
   "cell_type": "code",
   "execution_count": 49,
   "metadata": {
    "collapsed": false
   },
   "outputs": [],
   "source": [
    "market_weights = np.dot(np.linalg.inv(monthly_covariance),\n",
    "                        returns.values() - rf*u)/(np.dot(np.dot(u.T, np.linalg.inv(monthly_covariance)),\n",
    "                                                       returns.values() - rf*u))"
   ]
  },
  {
   "cell_type": "code",
   "execution_count": 50,
   "metadata": {
    "collapsed": false
   },
   "outputs": [
    {
     "data": {
      "text/plain": [
       "array([-1.33237521,  0.43853188,  0.36144459, -0.14138548, -0.08159769,\n",
       "       -0.10732495,  0.08126039, -1.79659464,  0.11480482,  0.32298894,\n",
       "        0.35700124, -0.10279051,  0.2181109 , -0.17983585,  0.28098058,\n",
       "        1.19755654,  0.04448095,  1.03173043,  0.1364004 , -0.50148863,\n",
       "        0.20601056, -0.5132092 , -0.07021198,  0.22027997, -0.23729501,\n",
       "       -0.04082375,  0.21326513,  0.5025622 ,  0.57965148, -0.2021281 ])"
      ]
     },
     "execution_count": 50,
     "metadata": {},
     "output_type": "execute_result"
    }
   ],
   "source": [
    "market_weights"
   ]
  },
  {
   "cell_type": "code",
   "execution_count": 51,
   "metadata": {
    "collapsed": false
   },
   "outputs": [],
   "source": [
    "og_market_weights = np.dot(np.linalg.inv(monthly_covariance),\n",
    "                        monthly_return - rf*u)/(np.dot(np.dot(u.T, np.linalg.inv(monthly_covariance)),\n",
    "                                                       monthly_return - rf*u))"
   ]
  },
  {
   "cell_type": "code",
   "execution_count": 52,
   "metadata": {
    "collapsed": false
   },
   "outputs": [
    {
     "data": {
      "text/plain": [
       "array([  1.72106128e+00,  -7.63373595e-01,  -2.07959079e-01,\n",
       "         2.21690306e-04,  -1.45010246e-01,   6.75548268e-01,\n",
       "        -1.92341706e-01,  -1.04763901e+00,  -1.61072218e-01,\n",
       "        -2.57376562e+00,   1.05605607e+00,  -5.84316806e-02,\n",
       "         7.42538739e-01,  -3.63864187e-01,  -5.50505479e-02,\n",
       "         2.37711993e+00,   5.08320988e-01,  -1.35224423e+00,\n",
       "         6.30582940e-01,   2.05097244e-01,   4.54979910e-01,\n",
       "        -1.24382755e+00,  -8.55615394e-01,  -3.26570290e-02,\n",
       "         9.25318245e-01,  -7.36934761e-01,  -2.03436205e-03,\n",
       "         1.07190004e+00,  -1.31969957e-01,   5.55045842e-01])"
      ]
     },
     "execution_count": 52,
     "metadata": {},
     "output_type": "execute_result"
    }
   ],
   "source": [
    "og_market_weights"
   ]
  },
  {
   "cell_type": "code",
   "execution_count": null,
   "metadata": {
    "collapsed": true
   },
   "outputs": [],
   "source": []
  }
 ],
 "metadata": {
  "anaconda-cloud": {},
  "kernelspec": {
   "display_name": "Python [Root]",
   "language": "python",
   "name": "Python [Root]"
  },
  "language_info": {
   "codemirror_mode": {
    "name": "ipython",
    "version": 2
   },
   "file_extension": ".py",
   "mimetype": "text/x-python",
   "name": "python",
   "nbconvert_exporter": "python",
   "pygments_lexer": "ipython2",
   "version": "2.7.12"
  }
 },
 "nbformat": 4,
 "nbformat_minor": 0
}
