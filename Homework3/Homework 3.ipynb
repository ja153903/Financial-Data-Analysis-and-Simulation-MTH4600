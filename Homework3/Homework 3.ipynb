{
 "cells": [
  {
   "cell_type": "code",
   "execution_count": 31,
   "metadata": {
    "collapsed": false
   },
   "outputs": [],
   "source": [
    "import numpy as np\n",
    "import  matplotlib.pyplot as plt\n",
    "import seaborn as sns\n",
    "from scipy.stats import norm"
   ]
  },
  {
   "cell_type": "code",
   "execution_count": 3,
   "metadata": {
    "collapsed": true
   },
   "outputs": [],
   "source": [
    "%matplotlib inline"
   ]
  },
  {
   "cell_type": "code",
   "execution_count": 139,
   "metadata": {
    "collapsed": true
   },
   "outputs": [],
   "source": [
    "class GARCH11:\n",
    "    \n",
    "    def __init__(self):\n",
    "        self.S0 = 100\n",
    "        self.r = 0.05\n",
    "        self.T = 0.5\n",
    "        self.K = [50, 60, 70, 80, 90, 100, 110, 120, 130, 140, 150]\n",
    "        \n",
    "        self.long_run_vol_squared = 0.3 * 0.3\n",
    "        self.stochastic_vol_squared = 0.35 * 0.35\n",
    "        \n",
    "        self.alpha = 0.080\n",
    "        self.beta = 0.885\n",
    "        self.gamma = 0.035\n",
    "        self.steps = 252\n",
    "        self.dt = self.T/self.steps\n",
    "        self.square_root_dt = np.sqrt(self.dt)\n",
    "    \n",
    "    def generate_path(self, sim):\n",
    "        st = np.zeros((sim, self.steps))\n",
    "        st[:, 0] = self.S0\n",
    "        stochastic_vol_squared = np.zeros((sim, self.steps))\n",
    "        stochastic_vol_squared[:, 0] = self.stochastic_vol_squared\n",
    "        B = np.zeros((sim, self.steps))\n",
    "        std_normal = np.random.standard_normal((sim, self.steps))\n",
    "        \n",
    "        for i in range(1, self.steps):\n",
    "            mu = (self.r - 0.5 * stochastic_vol_squared[:, i-1]) * self.dt\n",
    "            B[:, i] = self.square_root_dt * np.sqrt(stochastic_vol_squared[:, i-1])*std_normal[:, i-1]\n",
    "            st[:, i] = st[:, i-1] * np.exp(mu + B[:, i])\n",
    "            stochastic_vol_squared[:, i] = self.gamma * self.long_run_vol_squared + self.beta * stochastic_vol_squared[:, i-1] + self.alpha * B[:, i] * B[:, i] / self.dt\n",
    "        \n",
    "        return st, stochastic_vol_squared\n",
    "    \n",
    "    def price_option(self, price_path, K):\n",
    "        '''\n",
    "        This function returns an array of call option prices\n",
    "        depending on different strikes\n",
    "        '''\n",
    "        \n",
    "        payoff_sum = np.sum(np.exp(-self.r * self.T) * np.maximum(price_path[:,self.steps - 1] - K, 0.0))\n",
    "\n",
    "        return payoff_sum / len(price_path[:,self.steps-1])\n",
    "    \n",
    "    def black_scholes(self, T, S0, K, sigma, r):\n",
    "        '''\n",
    "        Returns option price using Black-Scholes Formula\n",
    "        '''\n",
    "        '''\n",
    "        S0 = float(S0)\n",
    "        d1 = (np.log(S0/K) + (r + 0.5 * (sigma * sigma))* T) / (sigma * np.sqrt(T))\n",
    "        d2 = (np.log(S0/K) + (r - 0.5 * (sigma * sigma))* T) / (sigma * np.sqrt(T))\n",
    "\n",
    "        return S0 * norm.cdf(d1, 0.0, 1.0) - K * np.exp(-r * T) * norm.cdf(d2, 0.0, 1.0)\n",
    "        '''\n",
    "        \n",
    "        v = sigma * np.sqrt(T)\n",
    "        \n",
    "        if v < 0.0000001:\n",
    "            S0 *= np.exp(r*T)\n",
    "            val = S0 - K if S0 > K else 0\n",
    "            val *= np.exp(-r*T)\n",
    "        else:\n",
    "            d0 = (np.log(S0/K) + r*T)/v\n",
    "            d_plus = d0 + 0.5 * v\n",
    "            d_minus = d0 - 0.5 * v\n",
    "            \n",
    "            val = S0 * norm.cdf(d_plus) - K*np.exp(-r*T)*norm.cdf(d_minus)\n",
    "            \n",
    "        return val if val > 0 else 0\n",
    "    \n",
    "\n",
    "    def implied_vol(self, S0, K, T, r, call_price):\n",
    "        \n",
    "        step = 0.1\n",
    "        sigma = 0.0\n",
    "        \n",
    "        init_val = self.black_scholes(T, S0, K, 0.0, r)\n",
    "        \n",
    "        if init_val > call_price:\n",
    "            return -1\n",
    "        \n",
    "        if call_price < init_val + 0.0000001:\n",
    "            return 0.0\n",
    "        \n",
    "        val = init_val\n",
    "        j = 1\n",
    "        while j <= 5:\n",
    "            while val <= call_price:\n",
    "                sigma += step\n",
    "                val = self.black_scholes(T, S0, K, sigma, r)\n",
    "            sigma -= step\n",
    "            val = self.black_scholes(T, S0, K, sigma, r)\n",
    "            step /= 10\n",
    "            j += 1\n",
    "        return sigma\n",
    "    "
   ]
  },
  {
   "cell_type": "code",
   "execution_count": 140,
   "metadata": {
    "collapsed": true
   },
   "outputs": [],
   "source": [
    "test1 = GARCH11()"
   ]
  },
  {
   "cell_type": "code",
   "execution_count": 141,
   "metadata": {
    "collapsed": false
   },
   "outputs": [],
   "source": [
    "# test with 1000 simulations\n",
    "stock_price_path, stochastic_vol_squared = test1.generate_path(1000)"
   ]
  },
  {
   "cell_type": "code",
   "execution_count": 142,
   "metadata": {
    "collapsed": false
   },
   "outputs": [],
   "source": [
    "call_prices = {}\n",
    "for x in test1.K:\n",
    "    call_prices[x] = test1.price_option(stock_price_path, x)"
   ]
  },
  {
   "cell_type": "code",
   "execution_count": 143,
   "metadata": {
    "collapsed": false
   },
   "outputs": [
    {
     "data": {
      "text/plain": [
       "{50: 51.895559742732864,\n",
       " 60: 42.167523259895056,\n",
       " 70: 32.71392431124125,\n",
       " 80: 23.831544880324575,\n",
       " 90: 16.11272492599371,\n",
       " 100: 10.097048604589972,\n",
       " 110: 5.8843435539302078,\n",
       " 120: 3.1429105824662509,\n",
       " 130: 1.6198064769314811,\n",
       " 140: 0.75228231444476323,\n",
       " 150: 0.32041927826314026}"
      ]
     },
     "execution_count": 143,
     "metadata": {},
     "output_type": "execute_result"
    }
   ],
   "source": [
    "call_prices"
   ]
  },
  {
   "cell_type": "code",
   "execution_count": 144,
   "metadata": {
    "collapsed": true
   },
   "outputs": [],
   "source": [
    "mock_prices = {50 : 51.2443,  60 : 41.5486, 70: 32.0748,80:  23.2467, 90: 15.6789, 100:  9.8459, 110:  5.8126, 120:  3.2759, 130:  1.7939, 140:  0.9702, 150:  0.5253}"
   ]
  },
  {
   "cell_type": "code",
   "execution_count": 145,
   "metadata": {
    "collapsed": false
   },
   "outputs": [
    {
     "name": "stdout",
     "output_type": "stream",
     "text": [
      "0.62442\n",
      "0.95052\n",
      "0.69116\n",
      "0.49043\n",
      "0.36254\n",
      "0.31679\n"
     ]
    },
    {
     "ename": "KeyboardInterrupt",
     "evalue": "",
     "output_type": "error",
     "traceback": [
      "\u001b[1;31m---------------------------------------------------------------------------\u001b[0m",
      "\u001b[1;31mKeyboardInterrupt\u001b[0m                         Traceback (most recent call last)",
      "\u001b[1;32m<ipython-input-145-9d7c7c896ff8>\u001b[0m in \u001b[0;36m<module>\u001b[1;34m()\u001b[0m\n\u001b[0;32m      1\u001b[0m \u001b[0mimplied_vols\u001b[0m \u001b[1;33m=\u001b[0m \u001b[1;33m{\u001b[0m\u001b[1;33m}\u001b[0m\u001b[1;33m\u001b[0m\u001b[0m\n\u001b[0;32m      2\u001b[0m \u001b[1;32mfor\u001b[0m \u001b[0mx\u001b[0m \u001b[1;32min\u001b[0m \u001b[0mtest1\u001b[0m\u001b[1;33m.\u001b[0m\u001b[0mK\u001b[0m\u001b[1;33m:\u001b[0m\u001b[1;33m\u001b[0m\u001b[0m\n\u001b[1;32m----> 3\u001b[1;33m     \u001b[0mimplied_vols\u001b[0m\u001b[1;33m[\u001b[0m\u001b[0mx\u001b[0m\u001b[1;33m]\u001b[0m \u001b[1;33m=\u001b[0m \u001b[0mtest1\u001b[0m\u001b[1;33m.\u001b[0m\u001b[0mimplied_vol\u001b[0m\u001b[1;33m(\u001b[0m\u001b[0mtest1\u001b[0m\u001b[1;33m.\u001b[0m\u001b[0mS0\u001b[0m\u001b[1;33m,\u001b[0m \u001b[0mx\u001b[0m\u001b[1;33m,\u001b[0m \u001b[0mtest1\u001b[0m\u001b[1;33m.\u001b[0m\u001b[0mT\u001b[0m\u001b[1;33m,\u001b[0m \u001b[0mtest1\u001b[0m\u001b[1;33m.\u001b[0m\u001b[0mr\u001b[0m\u001b[1;33m,\u001b[0m \u001b[0mcall_prices\u001b[0m\u001b[1;33m[\u001b[0m\u001b[0mx\u001b[0m\u001b[1;33m]\u001b[0m\u001b[1;33m)\u001b[0m\u001b[1;33m\u001b[0m\u001b[0m\n\u001b[0m\u001b[0;32m      4\u001b[0m     \u001b[1;32mprint\u001b[0m\u001b[1;33m(\u001b[0m\u001b[0mimplied_vols\u001b[0m\u001b[1;33m[\u001b[0m\u001b[0mx\u001b[0m\u001b[1;33m]\u001b[0m\u001b[1;33m)\u001b[0m\u001b[1;33m\u001b[0m\u001b[0m\n",
      "\u001b[1;32m<ipython-input-139-a9c3992015ad>\u001b[0m in \u001b[0;36mimplied_vol\u001b[1;34m(self, S0, K, T, r, call_price)\u001b[0m\n\u001b[0;32m     89\u001b[0m             \u001b[1;32mwhile\u001b[0m \u001b[0mval\u001b[0m \u001b[1;33m<=\u001b[0m \u001b[0mcall_price\u001b[0m\u001b[1;33m:\u001b[0m\u001b[1;33m\u001b[0m\u001b[0m\n\u001b[0;32m     90\u001b[0m                 \u001b[0msigma\u001b[0m \u001b[1;33m+=\u001b[0m \u001b[0mstep\u001b[0m\u001b[1;33m\u001b[0m\u001b[0m\n\u001b[1;32m---> 91\u001b[1;33m                 \u001b[0mval\u001b[0m \u001b[1;33m=\u001b[0m \u001b[0mself\u001b[0m\u001b[1;33m.\u001b[0m\u001b[0mblack_scholes\u001b[0m\u001b[1;33m(\u001b[0m\u001b[0mT\u001b[0m\u001b[1;33m,\u001b[0m \u001b[0mS0\u001b[0m\u001b[1;33m,\u001b[0m \u001b[0mK\u001b[0m\u001b[1;33m,\u001b[0m \u001b[0msigma\u001b[0m\u001b[1;33m,\u001b[0m \u001b[0mr\u001b[0m\u001b[1;33m)\u001b[0m\u001b[1;33m\u001b[0m\u001b[0m\n\u001b[0m\u001b[0;32m     92\u001b[0m             \u001b[0msigma\u001b[0m \u001b[1;33m-=\u001b[0m \u001b[0mstep\u001b[0m\u001b[1;33m\u001b[0m\u001b[0m\n\u001b[0;32m     93\u001b[0m             \u001b[0mval\u001b[0m \u001b[1;33m=\u001b[0m \u001b[0mself\u001b[0m\u001b[1;33m.\u001b[0m\u001b[0mblack_scholes\u001b[0m\u001b[1;33m(\u001b[0m\u001b[0mT\u001b[0m\u001b[1;33m,\u001b[0m \u001b[0mS0\u001b[0m\u001b[1;33m,\u001b[0m \u001b[0mK\u001b[0m\u001b[1;33m,\u001b[0m \u001b[0msigma\u001b[0m\u001b[1;33m,\u001b[0m \u001b[0mr\u001b[0m\u001b[1;33m)\u001b[0m\u001b[1;33m\u001b[0m\u001b[0m\n",
      "\u001b[1;32m<ipython-input-139-a9c3992015ad>\u001b[0m in \u001b[0;36mblack_scholes\u001b[1;34m(self, T, S0, K, sigma, r)\u001b[0m\n\u001b[0;32m     66\u001b[0m             \u001b[0md_minus\u001b[0m \u001b[1;33m=\u001b[0m \u001b[0md0\u001b[0m \u001b[1;33m-\u001b[0m \u001b[1;36m0.5\u001b[0m \u001b[1;33m*\u001b[0m \u001b[0mv\u001b[0m\u001b[1;33m\u001b[0m\u001b[0m\n\u001b[0;32m     67\u001b[0m \u001b[1;33m\u001b[0m\u001b[0m\n\u001b[1;32m---> 68\u001b[1;33m             \u001b[0mval\u001b[0m \u001b[1;33m=\u001b[0m \u001b[0mS0\u001b[0m \u001b[1;33m*\u001b[0m \u001b[0mnorm\u001b[0m\u001b[1;33m.\u001b[0m\u001b[0mcdf\u001b[0m\u001b[1;33m(\u001b[0m\u001b[0md_plus\u001b[0m\u001b[1;33m)\u001b[0m \u001b[1;33m-\u001b[0m \u001b[0mK\u001b[0m\u001b[1;33m*\u001b[0m\u001b[0mnp\u001b[0m\u001b[1;33m.\u001b[0m\u001b[0mexp\u001b[0m\u001b[1;33m(\u001b[0m\u001b[1;33m-\u001b[0m\u001b[0mr\u001b[0m\u001b[1;33m*\u001b[0m\u001b[0mT\u001b[0m\u001b[1;33m)\u001b[0m\u001b[1;33m*\u001b[0m\u001b[0mnorm\u001b[0m\u001b[1;33m.\u001b[0m\u001b[0mcdf\u001b[0m\u001b[1;33m(\u001b[0m\u001b[0md_minus\u001b[0m\u001b[1;33m)\u001b[0m\u001b[1;33m\u001b[0m\u001b[0m\n\u001b[0m\u001b[0;32m     69\u001b[0m \u001b[1;33m\u001b[0m\u001b[0m\n\u001b[0;32m     70\u001b[0m         \u001b[1;32mreturn\u001b[0m \u001b[0mval\u001b[0m \u001b[1;32mif\u001b[0m \u001b[0mval\u001b[0m \u001b[1;33m>\u001b[0m \u001b[1;36m0\u001b[0m \u001b[1;32melse\u001b[0m \u001b[1;36m0\u001b[0m\u001b[1;33m\u001b[0m\u001b[0m\n",
      "\u001b[1;32mC:\\Users\\Jaime\\Anaconda2\\lib\\site-packages\\scipy\\stats\\_distn_infrastructure.pyc\u001b[0m in \u001b[0;36mcdf\u001b[1;34m(self, x, *args, **kwds)\u001b[0m\n\u001b[0;32m   1736\u001b[0m         \u001b[0mcond\u001b[0m \u001b[1;33m=\u001b[0m \u001b[0mcond0\u001b[0m \u001b[1;33m&\u001b[0m \u001b[0mcond1\u001b[0m\u001b[1;33m\u001b[0m\u001b[0m\n\u001b[0;32m   1737\u001b[0m         \u001b[0moutput\u001b[0m \u001b[1;33m=\u001b[0m \u001b[0mzeros\u001b[0m\u001b[1;33m(\u001b[0m\u001b[0mshape\u001b[0m\u001b[1;33m(\u001b[0m\u001b[0mcond\u001b[0m\u001b[1;33m)\u001b[0m\u001b[1;33m,\u001b[0m \u001b[0mdtyp\u001b[0m\u001b[1;33m)\u001b[0m\u001b[1;33m\u001b[0m\u001b[0m\n\u001b[1;32m-> 1738\u001b[1;33m         \u001b[0mplace\u001b[0m\u001b[1;33m(\u001b[0m\u001b[0moutput\u001b[0m\u001b[1;33m,\u001b[0m \u001b[1;33m(\u001b[0m\u001b[1;36m1\u001b[0m\u001b[1;33m-\u001b[0m\u001b[0mcond0\u001b[0m\u001b[1;33m)\u001b[0m\u001b[1;33m+\u001b[0m\u001b[0mnp\u001b[0m\u001b[1;33m.\u001b[0m\u001b[0misnan\u001b[0m\u001b[1;33m(\u001b[0m\u001b[0mx\u001b[0m\u001b[1;33m)\u001b[0m\u001b[1;33m,\u001b[0m \u001b[0mself\u001b[0m\u001b[1;33m.\u001b[0m\u001b[0mbadvalue\u001b[0m\u001b[1;33m)\u001b[0m\u001b[1;33m\u001b[0m\u001b[0m\n\u001b[0m\u001b[0;32m   1739\u001b[0m         \u001b[0mplace\u001b[0m\u001b[1;33m(\u001b[0m\u001b[0moutput\u001b[0m\u001b[1;33m,\u001b[0m \u001b[0mcond2\u001b[0m\u001b[1;33m,\u001b[0m \u001b[1;36m1.0\u001b[0m\u001b[1;33m)\u001b[0m\u001b[1;33m\u001b[0m\u001b[0m\n\u001b[0;32m   1740\u001b[0m         \u001b[1;32mif\u001b[0m \u001b[0mnp\u001b[0m\u001b[1;33m.\u001b[0m\u001b[0many\u001b[0m\u001b[1;33m(\u001b[0m\u001b[0mcond\u001b[0m\u001b[1;33m)\u001b[0m\u001b[1;33m:\u001b[0m  \u001b[1;31m# call only if at least 1 entry\u001b[0m\u001b[1;33m\u001b[0m\u001b[0m\n",
      "\u001b[1;32mC:\\Users\\Jaime\\Anaconda2\\lib\\site-packages\\numpy\\lib\\function_base.pyc\u001b[0m in \u001b[0;36mplace\u001b[1;34m(arr, mask, vals)\u001b[0m\n\u001b[0;32m   2209\u001b[0m                         \"not {name}\".format(name=type(arr).__name__))\n\u001b[0;32m   2210\u001b[0m \u001b[1;33m\u001b[0m\u001b[0m\n\u001b[1;32m-> 2211\u001b[1;33m     \u001b[1;32mreturn\u001b[0m \u001b[0m_insert\u001b[0m\u001b[1;33m(\u001b[0m\u001b[0marr\u001b[0m\u001b[1;33m,\u001b[0m \u001b[0mmask\u001b[0m\u001b[1;33m,\u001b[0m \u001b[0mvals\u001b[0m\u001b[1;33m)\u001b[0m\u001b[1;33m\u001b[0m\u001b[0m\n\u001b[0m\u001b[0;32m   2212\u001b[0m \u001b[1;33m\u001b[0m\u001b[0m\n\u001b[0;32m   2213\u001b[0m \u001b[1;33m\u001b[0m\u001b[0m\n",
      "\u001b[1;31mKeyboardInterrupt\u001b[0m: "
     ]
    }
   ],
   "source": [
    "implied_vols = {}\n",
    "for x in test1.K:\n",
    "    implied_vols[x] = test1.implied_vol(test1.S0, x, test1.T, test1.r, call_prices[x])\n",
    "    print(implied_vols[x])"
   ]
  },
  {
   "cell_type": "code",
   "execution_count": 146,
   "metadata": {
    "collapsed": false
   },
   "outputs": [
    {
     "data": {
      "text/plain": [
       "[50, 60, 70, 80, 90, 100, 110, 120, 130, 140, 150]"
      ]
     },
     "execution_count": 146,
     "metadata": {},
     "output_type": "execute_result"
    }
   ],
   "source": [
    "test1.K"
   ]
  },
  {
   "cell_type": "code",
   "execution_count": 147,
   "metadata": {
    "collapsed": true
   },
   "outputs": [],
   "source": [
    "implied_vols = [0.35183, 0.33093, 0.31912, 0.31227, 0.30882, 0.30767, 0.30819, 0.30996, 0.31276, 0.31633, 0.32050]"
   ]
  },
  {
   "cell_type": "code",
   "execution_count": 152,
   "metadata": {
    "collapsed": false
   },
   "outputs": [
    {
     "data": {
      "image/png": "[encoded data removed]",
      "text/plain": [
       "<matplotlib.figure.Figure at 0xc936710>"
      ]
     },
     "metadata": {},
     "output_type": "display_data"
    }
   ],
   "source": [
    "plt.plot(test1.K, implied_vols)\n",
    "plt.xlabel('Strikes')\n",
    "plt.ylabel('Implied Volatilities')\n",
    "plt.legend()\n",
    "plt.show()"
   ]
  },
  {
   "cell_type": "code",
   "execution_count": null,
   "metadata": {
    "collapsed": true
   },
   "outputs": [],
   "source": []
  }
 ],
 "metadata": {
  "anaconda-cloud": {},
  "kernelspec": {
   "display_name": "Python [Root]",
   "language": "python",
   "name": "Python [Root]"
  },
  "language_info": {
   "codemirror_mode": {
    "name": "ipython",
    "version": 2
   },
   "file_extension": ".py",
   "mimetype": "text/x-python",
   "name": "python",
   "nbconvert_exporter": "python",
   "pygments_lexer": "ipython2",
   "version": "2.7.12"
  }
 },
 "nbformat": 4,
 "nbformat_minor": 0
}
