{
 "cells": [
  {
   "cell_type": "markdown",
   "metadata": {},
   "source": [
    "MTH 4600: Data Analysis and Simulation\n",
    "\n",
    "Homework 1\n",
    "\n",
    "Group Members: Jaime Abbariao, Bell Chen, Jonnathan Romero\n",
    "\n",
    "(Python Implementation)"
   ]
  },
  {
   "cell_type": "code",
   "execution_count": 18,
   "metadata": {
    "collapsed": false
   },
   "outputs": [],
   "source": [
    "import numpy as np\n",
    "import matplotlib.pyplot as plt\n",
    "import pandas as pd\n",
    "%matplotlib inline"
   ]
  },
  {
   "cell_type": "markdown",
   "metadata": {},
   "source": [
    "# Question 1"
   ]
  },
  {
   "cell_type": "code",
   "execution_count": 15,
   "metadata": {
    "collapsed": false
   },
   "outputs": [
    {
     "name": "stdout",
     "output_type": "stream",
     "text": [
      "Lookback Option: \n",
      "[9.1540476706931457, 8.8636194316054109, 8.3593917258293651, 8.3790370711264845, 7.3846603873892018, 7.6107037958106103, 7.2813469564342324, 7.1506859469405137, 6.2358625787018243, 6.2512775433146128, 5.2607267132384932]\n",
      "\n",
      "\n",
      "Asian Option: \n",
      "[0.43953191119402235, 0.59582320237586528, 0.7152728830586903, 1.0023928199305498, 0.92350722640656202, 1.3208675761472437, 1.4956469954379745, 1.5901191791385483, 1.3922274303169362, 1.8289739987082336, 1.837317680639593]\n"
     ]
    },
    {
     "data": {
      "image/png": "[encoded data removed]",
      "text/plain": [
       "<matplotlib.figure.Figure at 0x948d908>"
      ]
     },
     "metadata": {},
     "output_type": "display_data"
    }
   ],
   "source": [
    "s0 = 100 # initial price\n",
    "k = 110 # strike price\n",
    "T = 0.25 # time to expiration (3 months)\n",
    "r = 0.03 # interest rate\n",
    "M = 1000 # number of simulations\n",
    "I = 1000 # number of samples\n",
    "dt = T/I # increments of steps\n",
    "discount_factor = np.exp(-r * T) # discount factor for option pricing\n",
    "\n",
    "lookback_price = {} # dictionary for prices by the rho value\n",
    "asian_price = {} # dictionary for prices by the rho value\n",
    "\n",
    "# generate a list of rho values from 0 to 1 by steps of 0.1\n",
    "rhos = [x for x in np.arange(0, 1, 0.1)] + [0.99999999]\n",
    "\n",
    "'''\n",
    "To ease the calculation of the stock pricing,\n",
    "we partition parts of the Geometric Brownian Motion calculation here\n",
    "'''\n",
    "xdrift = (r - 0.5 * (0.2 * 0.2)) * dt  \n",
    "xrand = np.sqrt(dt) * 0.2\n",
    "\n",
    "ydrift = (r - 0.5 * (0.25 * 0.25)) * dt\n",
    "yrand = np.sqrt(dt) * 0.25\n",
    "\n",
    "zdrift = (r - 0.5 * (0.3 * 0.3)) * dt\n",
    "zrand = np.sqrt(dt) * 0.3\n",
    "\n",
    "'''\n",
    "Modular version of the path simulation\n",
    "to make code more readable\n",
    "This function returns an array of the values \n",
    "of the price simulation.\n",
    "'''\n",
    "def simulatePath(drift, rand, norm):\n",
    "    return s0 * np.exp(drift + rand*norm)\n",
    "\n",
    "'''\n",
    "This function returns the payoff of the lookback option\n",
    "in 1(a) divided by the number of simulations.\n",
    "'''\n",
    "def lookbackPayoff(s0, s1, s2):\n",
    "    lp = max(s0.max(), s1.max(), s2.max()) - 110\n",
    "    return lp/M if lp > 0 else 0\n",
    "\n",
    "'''\n",
    "This function returns the payoff of the asian option\n",
    "in 1(b) divided by the number of simulations\n",
    "'''\n",
    "def asianPayoff(s0, s1, s2):\n",
    "    ap = np.average([s0[len(s0)-1], s1[len(s1)-1], s2[len(s2)-1]])-110\n",
    "    return ap/M if ap > 0 else 0\n",
    "\n",
    "\n",
    "\n",
    "for rho in rhos: # we loop through the values of rho\n",
    "    \n",
    "    '''\n",
    "    This calculates the Cholesky Decomposed matrix of the covariance matrix\n",
    "    '''\n",
    "    cho_mat = np.linalg.cholesky([[1, rho, rho], [rho, 1, rho], [rho, rho, 1]])\n",
    "\n",
    "    lookback_payoff_sum = asian_payoff_sum = 0 # initializing the running sum\n",
    "\n",
    "\n",
    "    for i in range(0, M): # loop through simulations\n",
    "\n",
    "        uncorr_normal = np.random.standard_normal((3, I)) # generate 3 random Gaussian vectors\n",
    "        chol_normal = np.dot(cho_mat, uncorr_normal) # dot product produces 3 correlated Gaussian vectors\n",
    "\n",
    "        '''\n",
    "        To speed up the simulation of the path, we take the cumulative sum\n",
    "        of the correlated Gaussian vectors.\n",
    "        '''\n",
    "        xnorm = np.cumsum(chol_normal[0])\n",
    "        ynorm = np.cumsum(chol_normal[1])\n",
    "        znorm = np.cumsum(chol_normal[2])\n",
    "    \n",
    "\n",
    "        '''\n",
    "        We simulate the 3 paths here.\n",
    "        '''\n",
    "        sx = simulatePath(xdrift, xrand, xnorm)\n",
    "        sy = simulatePath(ydrift, yrand, ynorm)\n",
    "        sz = simulatePath(zdrift, zrand, znorm)\n",
    "        \n",
    "\n",
    "        lookback_payoff_sum += lookbackPayoff(sx, sy, sz) # collect the sum of the payoffs \n",
    "        \n",
    "        asian_payoff_sum += asianPayoff(sx, sy, sz) # collect the sum of the payoffs\n",
    "\n",
    "    '''\n",
    "    The price of the option can be calculated discounting the average payoff\n",
    "    After that, we enter the rho and price into the dictionary as a key-value pair\n",
    "    '''\n",
    "    lookback_price[rho] = lookback_payoff_sum * discount_factor\n",
    "    asian_price[rho] = asian_payoff_sum *discount_factor\n",
    "\n",
    "\n",
    "print('Lookback Option: ')\n",
    "print([lookback_price[x] for x in rhos])\n",
    "print('\\n')\n",
    "print('Asian Option: ')\n",
    "print([asian_price[x] for  x in rhos])\n",
    "\n",
    "plt.scatter(list(lookback_price.keys()), list(lookback_price.values()), label='Lookback')\n",
    "plt.title('1(a) and 1(b) Option')\n",
    "plt.xlabel('Rho')\n",
    "plt.ylabel('Price of the Option')\n",
    "plt.xlim([-0.1, 1.1])\n",
    "plt.scatter(list(asian_price.keys()), list(asian_price.values()), color='red', label='Asian')\n",
    "plt.legend()\n",
    "plt.show()"
   ]
  },
  {
   "cell_type": "markdown",
   "metadata": {},
   "source": [
    "# Question 2"
   ]
  },
  {
   "cell_type": "code",
   "execution_count": 23,
   "metadata": {
    "collapsed": false
   },
   "outputs": [
    {
     "name": "stdout",
     "output_type": "stream",
     "text": [
      "('Weights of Minimum Variance Portfolio', array([-0.25473115,  0.13868405,  0.02453389, -0.01243963, -0.02866298,\n",
      "       -0.05574317,  0.03783649, -0.06750259, -0.03510068,  0.40013854,\n",
      "       -0.05011906,  0.08603739,  0.07853835,  0.06120593, -0.00288849,\n",
      "        0.02090359, -0.14128979,  0.20494511,  0.08289061,  0.01419278,\n",
      "        0.19411964, -0.00834335,  0.02964405, -0.15571107,  0.12811613,\n",
      "        0.06602595,  0.13861986,  0.08512257,  0.20129847, -0.18032147]))\n"
     ]
    },
    {
     "data": {
      "image/png": "[encoded data removed]",
      "text/plain": [
       "<matplotlib.figure.Figure at 0x8f8d3c8>"
      ]
     },
     "metadata": {},
     "output_type": "display_data"
    },
    {
     "name": "stdout",
     "output_type": "stream",
     "text": [
      "('Weights of Efficient Portfolio with Expected Return of 0.3% ', array([-0.27542173,  0.14813043,  0.02696857, -0.01257222, -0.02744458,\n",
      "       -0.06340129,  0.04024693, -0.05723856, -0.0337815 ,  0.43128138,\n",
      "       -0.06170297,  0.08755028,  0.07158491,  0.06565729, -0.00234224,\n",
      "       -0.00377081, -0.14809254,  0.22125206,  0.07715515,  0.01219362,\n",
      "        0.1913879 ,  0.00459469,  0.03891452, -0.15699969,  0.1197678 ,\n",
      "        0.07443459,  0.1400928 ,  0.074789  ,  0.20478847, -0.18802227]))\n"
     ]
    }
   ],
   "source": [
    "DJIA = pd.read_csv('DJIA-Data.csv') # read in the file into a DataFrame\n",
    "\n",
    "noa = len(DJIA.columns) # number of assets\n",
    "\n",
    "mu = DJIA.mean() # sample mean vector for each asset\n",
    "\n",
    "cov_mat = DJIA.cov() # covariance matrix for DataFrame\n",
    "\n",
    "std_dev = DJIA.std() # standard deviation for each asset\n",
    "\n",
    "'''\n",
    "This function computes the sample mean of the portfolio\n",
    "'''\n",
    "def sampleMean(weights, mu):\n",
    "    return np.sum(mu * weights)\n",
    "\n",
    "'''\n",
    "This function computes the volatility of the portfolio\n",
    "'''\n",
    "def sampleVol(weights, cov):\n",
    "    return np.sqrt(np.dot(np.dot(cov, weights), weights.T))\n",
    "\n",
    "'''\n",
    "This function computes the means and volatlities of the efficient portfolios\n",
    "'''\n",
    "def minimumVarianceLine(cov, mu):\n",
    "    u = np.array([1] * len(mu)) # initialize a unit vector\n",
    "\n",
    "    '''\n",
    "    The following is an implementation to find components for\n",
    "    the weights of the minimum variance portfolio\n",
    "    found in our textbook, Statistical Models and Methods \n",
    "    for Financial Markets\n",
    "    '''\n",
    "    A = np.dot(np.dot(mu.T, np.linalg.inv(cov_mat)), u)\n",
    "    B = np.dot(np.dot(mu.T, np.linalg.inv(cov_mat)), mu)\n",
    "    C = np.dot(np.dot(u.T, np.linalg.inv(cov_mat)), u)\n",
    "    D = B*C - A*A\n",
    "    p1 = np.dot(B * np.linalg.inv(cov_mat), u)\n",
    "    p2 = np.dot(A * np.linalg.inv(cov_mat), mu)\n",
    "    p3 = np.dot(C*np.linalg.inv(cov_mat), mu) - np.dot(A*np.linalg.inv(cov_mat),u)\n",
    "    \n",
    "\n",
    "    eff_mu = [] # initalize lists to store the efficient means\n",
    "    eff_vol = [] # initialize lists to store the efficient volalities\n",
    "    \n",
    "    '''\n",
    "    Next, we want to loop through possible target values for the mean\n",
    "    from which we can gather the efficient portfolios.\n",
    "    '''\n",
    "    for x in np.arange(0.0, 10, 0.1):\n",
    "        eff_mu.append(sampleMean(((p1 - p2 + x *(p3)) / D), mu))\n",
    "        eff_vol.append(sampleVol(((p1 - p2 + x *(p3)) / D), cov_mat))\n",
    "    \n",
    "    eff_mu = np.array(eff_mu)\n",
    "    eff_vol = np.array(eff_vol)\n",
    "\n",
    "    '''\n",
    "    Calculates the weights of the minimum variance portfolio \n",
    "    where (A/C) is chosen to minimize the variance\n",
    "    '''\n",
    "    mvp_weights = ((p1 - p2 + (A/C) *(p3)) / D)\n",
    "    \n",
    "    mvp_mu = np.dot(mu, mvp_weights.T) # calculates mean of MVP\n",
    "    mvp_vol = np.sqrt((B - 2 * mvp_mu*A + (mvp_mu**2)*C) /D) # calculates volatility of MVP\n",
    "\n",
    "    specific_weights = ((p1 - p2 + 0.3 *(p3)) / D)\n",
    "\n",
    "    return eff_mu, eff_vol, mvp_mu, mvp_vol, mvp_weights, specific_weights\n",
    "\n",
    "eff_mu, eff_vol, mvp_mu, mvp_vol, mvp_weights, specific_weights = minimumVarianceLine(cov_mat, mu)\n",
    "\n",
    "'''\n",
    "Question 2(a)\n",
    "'''\n",
    "print('Weights of Minimum Variance Portfolio', mvp_weights) # weights of the MVP\n",
    "'''\n",
    "This function plots the efficient frontier\n",
    "along with the 30 points and the minimum variance portfolio\n",
    "'''\n",
    "def plotEfficientFrontier(eff_vol, eff_mu, mvp_vol, mvp_mu, s_vol, s_mu):\n",
    "    plt.figure(figsize=(8,6))\n",
    "    plt.title('Efficient Frontier')\n",
    "    plt.xlabel('Standard Deviation of the Portfolio')\n",
    "    plt.ylabel('Return of the Portfolio')\n",
    "    plt.scatter(eff_vol, eff_mu, color='black', marker='x')\n",
    "    plt.plot(mvp_vol, mvp_mu, color='green', marker='o')\n",
    "    plt.scatter(s_vol, s_mu)\n",
    "    plt.show()\n",
    "\n",
    "plotEfficientFrontier(eff_vol, eff_mu, mvp_vol, mvp_mu, std_dev, mu)\n",
    "\n",
    "'''\n",
    "Question 2(b)\n",
    "'''\n",
    "def marketWeights(cov, mu):\n",
    "    u = np.array([1] * len(mu))\n",
    "\n",
    "    return np.dot(mu - 0.15*u, np.linalg.inv(cov))/(np.dot(np.dot(mu - 0.15*u, np.linalg.inv(cov)), u.T))\n",
    "\n",
    "\n",
    "mark_weights = marketWeights(cov_mat, mu)\n",
    "\n",
    "'''\n",
    "Question 2(c)\n",
    "'''\n",
    "print('Weights of Efficient Portfolio with Expected Return of 0.3% ', specific_weights) # weights for expected return of 0.3%"
   ]
  },
  {
   "cell_type": "code",
   "execution_count": null,
   "metadata": {
    "collapsed": true
   },
   "outputs": [],
   "source": []
  }
 ],
 "metadata": {
  "kernelspec": {
   "display_name": "Python [Root]",
   "language": "python",
   "name": "Python [Root]"
  },
  "language_info": {
   "codemirror_mode": {
    "name": "ipython",
    "version": 2
   },
   "file_extension": ".py",
   "mimetype": "text/x-python",
   "name": "python",
   "nbconvert_exporter": "python",
   "pygments_lexer": "ipython2",
   "version": "2.7.12"
  }
 },
 "nbformat": 4,
 "nbformat_minor": 0
}
